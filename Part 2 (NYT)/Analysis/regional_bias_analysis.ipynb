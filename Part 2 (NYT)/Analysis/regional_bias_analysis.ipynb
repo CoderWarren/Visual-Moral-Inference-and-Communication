{
 "cells": [
  {
   "cell_type": "markdown",
   "metadata": {},
   "source": [
    "# Bias Analysis"
   ]
  },
  {
   "cell_type": "code",
   "execution_count": 1,
   "metadata": {},
   "outputs": [],
   "source": [
    "# Run to make the plots pop out of the .ipynb file\n",
    "%matplotlib qt"
   ]
  },
  {
   "cell_type": "code",
   "execution_count": null,
   "metadata": {},
   "outputs": [],
   "source": [
    "# Run to make the plots stay in the .ipynb file\n",
    "%matplotlib inline "
   ]
  },
  {
   "cell_type": "markdown",
   "metadata": {},
   "source": [
    "## Importing data/Setting up"
   ]
  },
  {
   "cell_type": "code",
   "execution_count": 1,
   "metadata": {},
   "outputs": [],
   "source": [
    "# Imports\n",
    "import numpy as np\n",
    "import pandas as pd\n",
    "import pickle\n",
    "import matplotlib.pyplot as plt\n",
    "import seaborn as sns"
   ]
  },
  {
   "cell_type": "code",
   "execution_count": 3,
   "metadata": {},
   "outputs": [],
   "source": [
    "# Read the csv files\n",
    "norms_df = pd.read_csv(\"./Data/SMID_norms.csv\")\n",
    "# Rename columns accordingly\n",
    "norms_df.rename(columns={'Unnamed: 0': 'ID'}, inplace=True)"
   ]
  },
  {
   "cell_type": "code",
   "execution_count": 17,
   "metadata": {},
   "outputs": [],
   "source": [
    "with open(\"./Data/SMID_regions_IDs.pickle\", 'rb') as handle:\n",
    "    afr_ids,as_ids,eur_ids,me_ids = pickle.load(handle)\n",
    "afr_mask = norms_df['ID'].isin(afr_ids)\n",
    "as_mask = norms_df['ID'].isin(as_ids)\n",
    "eur_mask = norms_df['ID'].isin(eur_ids)\n",
    "me_mask = norms_df['ID'].isin(me_ids)"
   ]
  },
  {
   "cell_type": "code",
   "execution_count": 18,
   "metadata": {},
   "outputs": [
    {
     "data": {
      "text/plain": [
       "787"
      ]
     },
     "execution_count": 18,
     "metadata": {},
     "output_type": "execute_result"
    }
   ],
   "source": [
    "sum(afr_mask)"
   ]
  },
  {
   "cell_type": "code",
   "execution_count": 19,
   "metadata": {},
   "outputs": [
    {
     "data": {
      "text/plain": [
       "915"
      ]
     },
     "execution_count": 19,
     "metadata": {},
     "output_type": "execute_result"
    }
   ],
   "source": [
    "sum(as_mask)"
   ]
  },
  {
   "cell_type": "code",
   "execution_count": 20,
   "metadata": {},
   "outputs": [
    {
     "data": {
      "text/plain": [
       "841"
      ]
     },
     "execution_count": 20,
     "metadata": {},
     "output_type": "execute_result"
    }
   ],
   "source": [
    "sum(eur_mask)"
   ]
  },
  {
   "cell_type": "code",
   "execution_count": 21,
   "metadata": {},
   "outputs": [
    {
     "data": {
      "text/plain": [
       "644"
      ]
     },
     "execution_count": 21,
     "metadata": {},
     "output_type": "execute_result"
    }
   ],
   "source": [
    "sum(me_mask)"
   ]
  },
  {
   "cell_type": "code",
   "execution_count": null,
   "metadata": {},
   "outputs": [],
   "source": [
    "fig, axs = plt.subplots(2, 3)\n",
    "col_names = [#\"valence_mean\", \"arousal_mean\", \n",
    "             \"moral_mean\", \"authority_mean\",\n",
    "             \"fairness_mean\", \"harm_mean\",\n",
    "             \"ingroup_mean\", \"purity_mean\"]\n",
    "plt_names = [#\"Valence\", \"Arousal\", \n",
    "             \"Morality\", \"Authority (Relevance)\",\n",
    "             \"Fairness (Relevance)\", \"Care (Relevance)\",\n",
    "             \"Ingroup (Relevance)\", \"Purity (Relevance)\"]\n",
    "\n",
    "afr = norms_df[afr_mask]\n",
    "afr['Region'] = 'Africa'\n",
    "asia = norms_df[as_mask]\n",
    "asia['Region'] = 'Asia'\n",
    "eur = norms_df[eur_mask]\n",
    "eur['Region'] = 'Europe'\n",
    "me = norms_df[me_mask]\n",
    "me['Region'] = 'Middle East'\n",
    "regions_df = pd.concat([afr,asia,eur,me])\n",
    "\n",
    "for i in range(6):\n",
    "    sns.boxplot(y=col_names[i], x= \"Region\", data=regions_df,  orient='v' , ax=axs[i//3, i%3])\n",
    "    axs[i//3, i%3].set_ylabel('Image Normative Ratings')\n",
    "    axs[i//3, i%3].set_title(plt_names[i])\n",
    "\n",
    "fig.suptitle(\"Distribution of Ratings for Different Regions of SMID\")\n",
    "plt.show()"
   ]
  },
  {
   "cell_type": "markdown",
   "metadata": {},
   "source": [
    "## Stat testing"
   ]
  },
  {
   "cell_type": "code",
   "execution_count": 5,
   "metadata": {},
   "outputs": [],
   "source": [
    "np.random.seed(15654)\n",
    "col_names = [\"valence_mean\", \"arousal_mean\", \n",
    "             \"moral_mean\", \"authority_mean\",\n",
    "             \"fairness_mean\", \"harm_mean\",\n",
    "             \"ingroup_mean\", \"purity_mean\"]\n",
    "\n",
    "mask = afr_mask\n",
    "arr = []\n",
    "for i in range(2,8):\n",
    "    df = norms_df[mask][col_names[i]]\n",
    "    arr.append(np.array([np.mean(np.random.choice(df, 100, replace = True)) for _ in range(10000)]))\n",
    "arr=np.stack(arr)\n",
    "afr_arr = arr\n",
    "\n",
    "mask = as_mask\n",
    "arr = []\n",
    "for i in range(2,8):\n",
    "    df = norms_df[mask][col_names[i]]\n",
    "    arr.append(np.array([np.mean(np.random.choice(df, 100, replace = True)) for _ in range(10000)]))\n",
    "arr=np.stack(arr)\n",
    "as_arr = arr\n",
    "\n",
    "mask = eur_mask\n",
    "arr = []\n",
    "for i in range(2,8):\n",
    "    df = norms_df[mask][col_names[i]]\n",
    "    arr.append(np.array([np.mean(np.random.choice(df, 100, replace = True)) for _ in range(10000)]))\n",
    "arr=np.stack(arr)\n",
    "eur_arr = arr\n",
    "\n",
    "mask = me_mask\n",
    "arr = []\n",
    "for i in range(2,8):\n",
    "    df = norms_df[mask][col_names[i]]\n",
    "    arr.append(np.array([np.mean(np.random.choice(df, 100, replace = True)) for _ in range(10000)]))\n",
    "arr=np.stack(arr)\n",
    "me_arr = arr"
   ]
  },
  {
   "cell_type": "code",
   "execution_count": 12,
   "metadata": {},
   "outputs": [
    {
     "name": "stdout",
     "output_type": "stream",
     "text": [
      "0.030399999999999983\n"
     ]
    }
   ],
   "source": [
    "variable_index = 3 # Care\n",
    "test_arr = afr_arr\n",
    "other_arrs = [as_arr, eur_mask]\n",
    "\n",
    "cum_arr = True\n",
    "for arr in other_arrs:\n",
    "    cum_arr=np.logical_and(cum_arr, (test_arr[variable_index])>(arr[variable_index]))\n",
    "print(1-np.sum(cum_arr)/10000)"
   ]
  },
  {
   "cell_type": "code",
   "execution_count": 13,
   "metadata": {},
   "outputs": [
    {
     "name": "stdout",
     "output_type": "stream",
     "text": [
      "0.20589999999999997\n"
     ]
    }
   ],
   "source": [
    "variable_index = 3 # Care\n",
    "test_arr = me_arr\n",
    "# [spo_arr, bus_arr, tec_arr, sci_arr, hea_arr]\n",
    "other_arrs = [as_arr, eur_mask]\n",
    "\n",
    "cum_arr = True\n",
    "for arr in other_arrs:\n",
    "    cum_arr=np.logical_and(cum_arr, (test_arr[variable_index])>(arr[variable_index]))\n",
    "print(1-np.sum(cum_arr)/10000)"
   ]
  },
  {
   "cell_type": "code",
   "execution_count": 14,
   "metadata": {},
   "outputs": [
    {
     "name": "stdout",
     "output_type": "stream",
     "text": [
      "0.07120000000000004\n"
     ]
    }
   ],
   "source": [
    "variable_index = 5 # Purity\n",
    "test_arr = afr_arr\n",
    "# [spo_arr, bus_arr, tec_arr, sci_arr, hea_arr]\n",
    "other_arrs = [as_arr, eur_mask]\n",
    "\n",
    "cum_arr = True\n",
    "for arr in other_arrs:\n",
    "    cum_arr=np.logical_and(cum_arr, (test_arr[variable_index])>(arr[variable_index]))\n",
    "print(1-np.sum(cum_arr)/10000)"
   ]
  },
  {
   "cell_type": "code",
   "execution_count": 15,
   "metadata": {},
   "outputs": [
    {
     "name": "stdout",
     "output_type": "stream",
     "text": [
      "0.15259999999999996\n"
     ]
    }
   ],
   "source": [
    "variable_index = 5 # Purity\n",
    "test_arr = me_arr\n",
    "# [spo_arr, bus_arr, tec_arr, sci_arr, hea_arr]\n",
    "other_arrs = [as_arr, eur_mask]\n",
    "\n",
    "cum_arr = True\n",
    "for arr in other_arrs:\n",
    "    cum_arr=np.logical_and(cum_arr, (test_arr[variable_index])>(arr[variable_index]))\n",
    "print(1-np.sum(cum_arr)/10000)"
   ]
  }
 ],
 "metadata": {
  "kernelspec": {
   "display_name": "Python 3",
   "language": "python",
   "name": "python3"
  },
  "language_info": {
   "codemirror_mode": {
    "name": "ipython",
    "version": 3
   },
   "file_extension": ".py",
   "mimetype": "text/x-python",
   "name": "python",
   "nbconvert_exporter": "python",
   "pygments_lexer": "ipython3",
   "version": "3.11.4"
  }
 },
 "nbformat": 4,
 "nbformat_minor": 2
}
